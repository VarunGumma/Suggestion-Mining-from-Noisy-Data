{
 "cells": [
  {
   "cell_type": "code",
   "execution_count": null,
   "id": "ba4acd5c",
   "metadata": {},
   "outputs": [],
   "source": [
    "import pandas as pd\n",
    "from sklearn.naive_bayes import MultinomialNB\n",
    "from sklearn.metrics import classification_report, f1_score\n",
    "from sklearn.feature_extraction.text import TfidfVectorizer"
   ]
  },
  {
   "cell_type": "code",
   "execution_count": null,
   "id": "57c170c9",
   "metadata": {},
   "outputs": [],
   "source": [
    "vectorizer = TfidfVectorizer()\n",
    "nb_classifier = MultinomialNB()"
   ]
  },
  {
   "cell_type": "code",
   "execution_count": null,
   "id": "0c07c84e",
   "metadata": {},
   "outputs": [],
   "source": [
    "df = pd.read_csv(\"../data/App_Test_Labeled.csv\", names=[\"sno\", \"id\", \"text\", \"lbl\"])\n",
    "Xtrain = vectorizer.fit_transform([x.strip() for x in df[\"text\"]])\n",
    "ytrain = df[\"lbl\"].to_numpy()"
   ]
  },
  {
   "cell_type": "code",
   "execution_count": null,
   "id": "86726b0a",
   "metadata": {},
   "outputs": [],
   "source": [
    "nb_classifier.fit(Xtrain, ytrain)"
   ]
  },
  {
   "cell_type": "code",
   "execution_count": null,
   "id": "a02a9341",
   "metadata": {},
   "outputs": [],
   "source": [
    "df = pd.read_csv(\"../data/App_Test_Labeled.csv\", names=[\"sno\", \"id\", \"text\", \"lbl\"])\n",
    "Xtest = vectorizer.transform([x.strip() for x in df[\"text\"]])\n",
    "ytest = df[\"lbl\"].to_numpy()"
   ]
  },
  {
   "cell_type": "code",
   "execution_count": null,
   "id": "2b26e34c",
   "metadata": {},
   "outputs": [],
   "source": [
    "ypred = nb_classifier.predict(Xtest)"
   ]
  },
  {
   "cell_type": "code",
   "execution_count": null,
   "id": "41b39434",
   "metadata": {},
   "outputs": [],
   "source": [
    "print(f\"f1_score: {f1_score(ytest, ypred, zero_division=0):.4f}\\n\")\n",
    "print(classification_report(ytest, ypred, target_names=['Positive', 'Negative'], digits=4))"
   ]
  },
  {
   "cell_type": "code",
   "execution_count": null,
   "id": "229645be",
   "metadata": {},
   "outputs": [],
   "source": []
  }
 ],
 "metadata": {
  "kernelspec": {
   "display_name": "Python 3.10.4 64-bit",
   "language": "python",
   "name": "python3"
  },
  "language_info": {
   "codemirror_mode": {
    "name": "ipython",
    "version": 3
   },
   "file_extension": ".py",
   "mimetype": "text/x-python",
   "name": "python",
   "nbconvert_exporter": "python",
   "pygments_lexer": "ipython3",
   "version": "3.10.4"
  },
  "vscode": {
   "interpreter": {
    "hash": "916dbcbb3f70747c44a77c7bcd40155683ae19c65e1c03b4aa3499c5328201f1"
   }
  }
 },
 "nbformat": 4,
 "nbformat_minor": 5
}
