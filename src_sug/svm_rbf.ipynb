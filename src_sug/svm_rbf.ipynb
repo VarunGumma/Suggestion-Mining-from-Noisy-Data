{
 "cells": [
  {
   "cell_type": "code",
   "execution_count": null,
   "id": "ba4acd5c",
   "metadata": {},
   "outputs": [],
   "source": [
    "import pandas as pd\n",
    "from sklearn.svm import SVC\n",
    "from sklearn.metrics import classification_report, f1_score\n",
    "from sklearn.feature_extraction.text import TfidfVectorizer"
   ]
  },
  {
   "cell_type": "code",
   "execution_count": null,
   "id": "57c170c9",
   "metadata": {},
   "outputs": [],
   "source": [
    "vectorizer = TfidfVectorizer()\n",
    "svc_classifier = SVC(kernel=\"rbf\", class_weight=\"balanced\")"
   ]
  },
  {
   "cell_type": "code",
   "execution_count": null,
   "id": "0c07c84e",
   "metadata": {},
   "outputs": [],
   "source": [
    "df = pd.read_csv(\"../data/App_Training.csv\", names=[\"sno\", \"id\", \"text\", \"lbl\"])\n",
    "Xtrain = vectorizer.fit_transform([x.strip() for x in df[\"text\"]])\n",
    "ytrain = df[\"lbl\"].to_numpy()"
   ]
  },
  {
   "cell_type": "code",
   "execution_count": null,
   "id": "86726b0a",
   "metadata": {},
   "outputs": [],
   "source": [
    "svc_classifier.fit(Xtrain, ytrain)"
   ]
  },
  {
   "cell_type": "code",
   "execution_count": null,
   "id": "a02a9341",
   "metadata": {},
   "outputs": [],
   "source": [
    "df = pd.read_csv(\"../data/App_Test_Labeled.csv\", names=[\"sno\", \"id\", \"text\", \"lbl\"])\n",
    "Xtest = vectorizer.transform([x.strip() for x in df[\"text\"]])\n",
    "ytest = df[\"lbl\"].to_numpy()"
   ]
  },
  {
   "cell_type": "code",
   "execution_count": null,
   "id": "2b26e34c",
   "metadata": {},
   "outputs": [],
   "source": [
    "ypred = svc_classifier.predict(Xtest)\n",
    "print(f\"test f1_score (SUG): {f1_score(ytest, ypred, zero_division=0):.4f}\\n\")\n",
    "print(classification_report(ytest, ypred, target_names=['Positive', 'Negative'], digits=4))"
   ]
  },
  {
   "cell_type": "markdown",
   "id": "81a19fba",
   "metadata": {},
   "source": [
    "# Use NER Data and perform Suggestion Classification"
   ]
  },
  {
   "cell_type": "code",
   "execution_count": null,
   "id": "c376280d",
   "metadata": {},
   "outputs": [],
   "source": [
    "vectorizer = TfidfVectorizer()\n",
    "svc_classifier = SVC(kernel=\"rbf\", class_weight=\"balanced\")"
   ]
  },
  {
   "cell_type": "code",
   "execution_count": null,
   "id": "c82f333e",
   "metadata": {},
   "outputs": [],
   "source": [
    "df_ner = pd.read_csv(\"../data/train_290818.txt\", \n",
    "                     sep=' ',\n",
    "                     header=None,\n",
    "                     names=['a', 'b', 'c'],\n",
    "                     encoding=\"utf-8\",\n",
    "                     converters={'a': pd.eval, \n",
    "                                 'b': pd.eval})\n",
    "\n",
    "df_ner['c'] = df_ner['c'].apply(lambda x: 0 if not x else 1)\n",
    "df_ner['a'] = df_ner['a'].apply(lambda x: ' '.join(x))\n",
    "\n",
    "Xtrain_ner = vectorizer.fit_transform([x for x in df_ner['a']])\n",
    "ytrain_ner = df_ner['c'].to_numpy()"
   ]
  },
  {
   "cell_type": "code",
   "execution_count": null,
   "id": "d5abcf8f",
   "metadata": {},
   "outputs": [],
   "source": [
    "svc_classifier.fit(Xtrain_ner, ytrain_ner)"
   ]
  },
  {
   "cell_type": "code",
   "execution_count": null,
   "id": "bd51d710",
   "metadata": {},
   "outputs": [],
   "source": [
    "df_ner = pd.read_csv(\"../data/test_290818.txt\", \n",
    "                     sep=' ',\n",
    "                     header=None,\n",
    "                     names=['a', 'b', 'c'],\n",
    "                     encoding=\"utf-8\",\n",
    "                     converters={'a': pd.eval, \n",
    "                                 'b': pd.eval})\n",
    "\n",
    "df_ner['c'] = df_ner['c'].apply(lambda x: 0 if not x else 1)\n",
    "df_ner['a'] = df_ner['a'].apply(lambda x: ' '.join(x))\n",
    "\n",
    "Xtest_ner = vectorizer.transform([x for x in df_ner['a']])\n",
    "ytest_ner = df_ner['c'].to_numpy()"
   ]
  },
  {
   "cell_type": "code",
   "execution_count": null,
   "id": "a44e91e8",
   "metadata": {},
   "outputs": [],
   "source": [
    "ypred_ner = svc_classifier.predict(Xtest_ner)\n",
    "print(f\"test f1_score (NER): {f1_score(ytest_ner, ypred_ner, zero_division=0):.4f}\\n\")\n",
    "print(classification_report(ytest_ner, ypred_ner, target_names=['Positive', 'Negative'], digits=4))"
   ]
  }
 ],
 "metadata": {
  "kernelspec": {
   "display_name": "Python 3.10.5 64-bit",
   "language": "python",
   "name": "python3"
  },
  "language_info": {
   "codemirror_mode": {
    "name": "ipython",
    "version": 3
   },
   "file_extension": ".py",
   "mimetype": "text/x-python",
   "name": "python",
   "nbconvert_exporter": "python",
   "pygments_lexer": "ipython3",
   "version": "3.10.5"
  },
  "vscode": {
   "interpreter": {
    "hash": "7a2000831a5050d8503f24d6733c4641a8734e9c81b6dced7c2deb928c6c3201"
   }
  }
 },
 "nbformat": 4,
 "nbformat_minor": 5
}
