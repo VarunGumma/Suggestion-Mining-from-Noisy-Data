{
 "cells": [
  {
   "cell_type": "code",
   "execution_count": 1,
   "id": "94b05aaf",
   "metadata": {},
   "outputs": [],
   "source": [
    "from ast import literal_eval\n",
    "from pandas import read_csv\n",
    "from itertools import chain\n",
    "from nltk.tokenize import TreebankWordTokenizer, TweetTokenizer, MWETokenizer"
   ]
  },
  {
   "cell_type": "code",
   "execution_count": 2,
   "id": "5109ae21",
   "metadata": {},
   "outputs": [],
   "source": [
    "def create_vocab(tokenizer_name, tokenizer, text):\n",
    "    tokenized_text = [tokenizer.tokenize(sentence) for sentence in text]\n",
    "    all_tokenized_words = list(chain.from_iterable(tokenized_text))\n",
    "    all_tokenized_unique_words = ['<PAD>', '<S>', '</S>'] + sorted(list(set(all_tokenized_words)))\n",
    "    with open(f\"./data/full_vocab_290818_{tokenizer_name}.txt\", \"w\") as f:\n",
    "        f.writelines([f\"{w}\\n\" for w in all_tokenized_unique_words])\n",
    "        \n",
    "    print(f\"done with {tokenizer_name}!\")"
   ]
  },
  {
   "cell_type": "code",
   "execution_count": 3,
   "id": "bfc329cf",
   "metadata": {},
   "outputs": [],
   "source": [
    "tokenizers = {\n",
    "    \"tree_bank_tokenier\": TreebankWordTokenizer(),\n",
    "    \"tweet_tokenizer\": TweetTokenizer(),\n",
    "    \"mwe_tokenizer\": MWETokenizer()\n",
    "}"
   ]
  },
  {
   "cell_type": "code",
   "execution_count": 4,
   "id": "507e9ace",
   "metadata": {},
   "outputs": [],
   "source": [
    "data1 = read_csv(\"./data/train_290818.txt\", sep=' ', header=None).values.tolist()\n",
    "text1 = [\" \".join(literal_eval(words)) for (words, _, _) in data1]\n",
    "\n",
    "data2 = read_csv(\"./data/test_290818.txt\", sep=' ', header=None).values.tolist()\n",
    "text2 = [\" \".join(literal_eval(words)) for (words, _, _) in data2]\n",
    "\n",
    "text = text1 + text2"
   ]
  },
  {
   "cell_type": "code",
   "execution_count": 5,
   "id": "bc395557",
   "metadata": {},
   "outputs": [
    {
     "name": "stdout",
     "output_type": "stream",
     "text": [
      "done with tree_bank_tokenier!\n",
      "done with tweet_tokenizer!\n",
      "done with mwe_tokenizer!\n"
     ]
    }
   ],
   "source": [
    "for (k, v) in tokenizers.items():\n",
    "    create_vocab(k, v, text)"
   ]
  }
 ],
 "metadata": {
  "kernelspec": {
   "display_name": "Python 3 (ipykernel)",
   "language": "python",
   "name": "python3"
  },
  "language_info": {
   "codemirror_mode": {
    "name": "ipython",
    "version": 3
   },
   "file_extension": ".py",
   "mimetype": "text/x-python",
   "name": "python",
   "nbconvert_exporter": "python",
   "pygments_lexer": "ipython3",
   "version": "3.10.5"
  },
  "vscode": {
   "interpreter": {
    "hash": "916dbcbb3f70747c44a77c7bcd40155683ae19c65e1c03b4aa3499c5328201f1"
   }
  }
 },
 "nbformat": 4,
 "nbformat_minor": 5
}
