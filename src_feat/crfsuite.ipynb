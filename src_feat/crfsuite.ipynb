{
 "cells": [
  {
   "cell_type": "code",
   "execution_count": 1,
   "metadata": {},
   "outputs": [],
   "source": [
    "import nltk\n",
    "import spacy\n",
    "import pandas as pd\n",
    "from pycrfsuite import Trainer, Tagger\n",
    "from metrics import f1score\n",
    "from sklearn.metrics import classification_report\n",
    "from collections import Counter\n",
    "from itertools import chain\n",
    "from joblib import delayed, Parallel\n",
    "from multiprocessing import cpu_count\n",
    "\n",
    "# uncomment the below line if you are running the code for the first time after installing nltk\n",
    "# nltk.download('all')"
   ]
  },
  {
   "cell_type": "code",
   "execution_count": 2,
   "metadata": {},
   "outputs": [],
   "source": [
    "n_jobs = cpu_count()\n",
    "# run the following command in the terminal if you are running the code for the first time after installing spacy\n",
    "# python3 -m spacy download en_core_web_sm\n",
    "nlp = spacy.load(\"en_core_web_sm\")"
   ]
  },
  {
   "cell_type": "code",
   "execution_count": 3,
   "metadata": {},
   "outputs": [],
   "source": [
    "def read_data(fname):\n",
    "    data = pd.read_csv(fname, \n",
    "                       sep=' ',\n",
    "                       header=None,\n",
    "                       names=['a', 'b', 'c'],\n",
    "                       encoding=\"utf-8\",\n",
    "                       converters={'a': pd.eval, \n",
    "                                   'b': pd.eval})\n",
    "\n",
    "    pos_tags = [[token.pos_ for token in nlp(' '.join(s))] for s in data['a']]\n",
    "    labels = [[l.split('-')[0] for l in labels] for labels in data['b']]\n",
    "\n",
    "    return [[(w, p, l) for (w, p, l) in zip(words, pos, lbls)] for (words, pos, lbls) in zip(data['a'], pos_tags, labels)]"
   ]
  },
  {
   "cell_type": "code",
   "execution_count": 4,
   "metadata": {},
   "outputs": [],
   "source": [
    "def word2features(sent, i):\n",
    "    word = sent[i][0]\n",
    "    postag = sent[i][1]\n",
    "    features = [\n",
    "        'bias',\n",
    "        f'word.lower={word.lower()}',\n",
    "        f'word[-3:]={word[-3:]}',\n",
    "        f'word[-2:]={word[-2:]}',\n",
    "        f'word.isupper={word.isupper()}',\n",
    "        f'word.istitle={word.istitle()}',\n",
    "        f'word.isdigit={word.isdigit()}',\n",
    "        f'postag={postag}',\n",
    "        f'postag[:2]={postag[:2]}'\n",
    "    ]\n",
    "    if i > 0:\n",
    "        word1 = sent[i-1][0]\n",
    "        postag1 = sent[i-1][1]\n",
    "        features.extend([\n",
    "            f'-1:word.lower={word1.lower()}',\n",
    "            f'-1:word.istitle={word1.istitle()}',\n",
    "            f'-1:word.isupper={word1.isupper()}',\n",
    "            f'-1:postag={postag1}',\n",
    "            f'-1:postag[:2]={postag1[:2]}'\n",
    "        ])\n",
    "    else:\n",
    "        features.append('BOS')\n",
    "        \n",
    "    if i < len(sent)-1:\n",
    "        word1 = sent[i+1][0]\n",
    "        postag1 = sent[i+1][1]\n",
    "        features.extend([\n",
    "            f'+1:word.lower={word1.lower()}',\n",
    "            f'+1:word.istitle={word1.istitle()}',\n",
    "            f'+1:word.isupper={word1.isupper()}',\n",
    "            f'+1:postag={postag1}',\n",
    "            f'+1:postag[:2]={postag1[:2]}',\n",
    "        ])\n",
    "    else:\n",
    "        features.append('EOS')\n",
    "                \n",
    "    return features\n",
    "\n",
    "\n",
    "def sent2features(sent):\n",
    "    return [word2features(sent, i) for i in range(len(sent))]\n",
    "\n",
    "def sent2labels(sent):\n",
    "    return [label for (_, _, label) in sent]\n",
    "\n",
    "def sent2tokens(sent):\n",
    "    return [token for (token, _, _) in sent]"
   ]
  },
  {
   "cell_type": "code",
   "execution_count": 5,
   "metadata": {},
   "outputs": [],
   "source": [
    "def bio_classification_report(y_true, y_pred):\n",
    "    tagset = {'B': 0, 'I': 1, 'O': 2, 'E': 3, 'S': 4}\n",
    "    y_true = [[tagset[i] for i in y] for y in y_true]\n",
    "    y_pred = [[tagset[i] for i in yp] for yp in y_pred]\n",
    "    \n",
    "    r, p, f1 = f1score(y_true, y_pred)\n",
    "    print(f\"featurewise_f1_score: {f1:.4f}\")\n",
    "    print(f\"featurewise_recall_score: {r:.4f}\")\n",
    "    print(f\"featurewise_precision_score: {p:.4f}\\n\\n\")\n",
    "    \n",
    "    y_true = list(chain.from_iterable(y_true))\n",
    "    y_pred = list(chain.from_iterable(y_pred))\n",
    "    \n",
    "    return classification_report(y_true,\n",
    "                                 y_pred,\n",
    "                                 zero_division=0,\n",
    "                                 labels=[0, 1, 3, 4],\n",
    "                                 target_names=['B', 'I', 'E', 'S'])"
   ]
  },
  {
   "cell_type": "code",
   "execution_count": 6,
   "metadata": {},
   "outputs": [],
   "source": [
    "train_sents = read_data(\"../data/train_290818.txt\")\n",
    "test_sents = read_data(\"../data/test_290818.txt\")"
   ]
  },
  {
   "cell_type": "code",
   "execution_count": 7,
   "metadata": {},
   "outputs": [],
   "source": [
    "X_train = Parallel(n_jobs=n_jobs)(delayed(sent2features)(s) for s in train_sents)\n",
    "X_test = Parallel(n_jobs=n_jobs)(delayed(sent2features)(s) for s in test_sents)\n",
    "\n",
    "y_train = Parallel(n_jobs=n_jobs)(delayed(sent2labels)(s) for s in train_sents)\n",
    "y_test = Parallel(n_jobs=n_jobs)(delayed(sent2labels)(s) for s in train_sents)"
   ]
  },
  {
   "cell_type": "code",
   "execution_count": 8,
   "metadata": {},
   "outputs": [],
   "source": [
    "trainer = Trainer(verbose=False)\n",
    "\n",
    "for xseq, yseq in zip(X_train, y_train):\n",
    "    trainer.append(xseq, yseq)"
   ]
  },
  {
   "cell_type": "code",
   "execution_count": 9,
   "metadata": {},
   "outputs": [],
   "source": [
    "trainer.set_params({\n",
    "    'feature.minfreq': 1,\n",
    "    'num_memories': 6,\n",
    "    'linesearch': 'StrongBacktracking',\n",
    "    'max_linesearch': 20,\n",
    "    'c1': 1e-1,\n",
    "    'c2': 1e-1,\n",
    "    'max_iterations': 2048, \n",
    "    'feature.possible_transitions': True,\n",
    "    'feature.possible_states': True,\n",
    "})\n",
    "\n",
    "trainer.train('290818.crfsuite')"
   ]
  },
  {
   "cell_type": "code",
   "execution_count": 10,
   "metadata": {},
   "outputs": [
    {
     "name": "stdout",
     "output_type": "stream",
     "text": [
      "{'num': 802, 'scores': {}, 'loss': 3568.840346, 'feature_norm': 82.593766, 'error_norm': 6.889488, 'active_features': 11566, 'linesearch_trials': 2, 'linesearch_step': 0.5, 'time': 0.033}\n"
     ]
    }
   ],
   "source": [
    "print(trainer.logparser.last_iteration)"
   ]
  },
  {
   "cell_type": "markdown",
   "metadata": {},
   "source": [
    "## Make predictions"
   ]
  },
  {
   "cell_type": "code",
   "execution_count": 11,
   "metadata": {},
   "outputs": [
    {
     "data": {
      "text/plain": [
       "<contextlib.closing at 0x18662df2830>"
      ]
     },
     "execution_count": 11,
     "metadata": {},
     "output_type": "execute_result"
    }
   ],
   "source": [
    "tagger = Tagger()\n",
    "tagger.open('290818.crfsuite')"
   ]
  },
  {
   "cell_type": "code",
   "execution_count": 12,
   "metadata": {},
   "outputs": [],
   "source": [
    "y_pred = [tagger.tag(xseq) for xseq in X_test]\n",
    "y_test = [sent2labels(xseq) for xseq in test_sents]"
   ]
  },
  {
   "cell_type": "code",
   "execution_count": 13,
   "metadata": {},
   "outputs": [
    {
     "name": "stdout",
     "output_type": "stream",
     "text": [
      "featurewise_f1_score: 0.3667\n",
      "featurewise_recall_score: 0.2933\n",
      "featurewise_precision_score: 0.4889\n",
      "\n",
      "\n",
      "              precision    recall  f1-score   support\n",
      "\n",
      "           B       0.51      0.40      0.45       311\n",
      "           I       0.37      0.24      0.30        90\n",
      "           E       0.52      0.41      0.46       309\n",
      "           S       0.57      0.22      0.32       291\n",
      "\n",
      "   micro avg       0.51      0.34      0.41      1001\n",
      "   macro avg       0.49      0.32      0.38      1001\n",
      "weighted avg       0.52      0.34      0.40      1001\n",
      "\n"
     ]
    }
   ],
   "source": [
    "print(bio_classification_report(y_test, y_pred))"
   ]
  },
  {
   "cell_type": "markdown",
   "metadata": {},
   "source": [
    "## Check what the model has learnt"
   ]
  },
  {
   "cell_type": "code",
   "execution_count": 14,
   "metadata": {},
   "outputs": [
    {
     "name": "stdout",
     "output_type": "stream",
     "text": [
      "Top likely transitions:\n",
      "B      -> I       8.065973\n",
      "I      -> I       7.094853\n",
      "B      -> E       6.752252\n",
      "I      -> E       6.688789\n",
      "O      -> B       2.698933\n",
      "E      -> B       1.860267\n",
      "O      -> S       1.761007\n",
      "S      -> B       1.536394\n",
      "O      -> O       1.388748\n",
      "E      -> S       1.203925\n",
      "S      -> S       1.019598\n",
      "E      -> O       0.412944\n",
      "S      -> O       -0.249607\n",
      "S      -> E       -0.855203\n",
      "B      -> S       -1.124432\n",
      "\n",
      "Top unlikely transitions:\n",
      "I      -> E       6.688789\n",
      "O      -> B       2.698933\n",
      "E      -> B       1.860267\n",
      "O      -> S       1.761007\n",
      "S      -> B       1.536394\n",
      "O      -> O       1.388748\n",
      "E      -> S       1.203925\n",
      "S      -> S       1.019598\n",
      "E      -> O       0.412944\n",
      "S      -> O       -0.249607\n",
      "S      -> E       -0.855203\n",
      "B      -> S       -1.124432\n",
      "I      -> O       -2.745981\n",
      "O      -> E       -2.809948\n",
      "B      -> O       -3.314997\n"
     ]
    }
   ],
   "source": [
    "info = tagger.info()\n",
    "\n",
    "def print_transitions(trans_features):\n",
    "    for (label_from, label_to), weight in trans_features:\n",
    "        print(\"%-6s -> %-7s %0.4f\" % (label_from, label_to, weight))\n",
    "\n",
    "print(\"Top likely transitions:\")\n",
    "print_transitions(Counter(info.transitions).most_common(15))\n",
    "\n",
    "print(\"\\nTop unlikely transitions:\")\n",
    "print_transitions(Counter(info.transitions).most_common()[-15:])"
   ]
  },
  {
   "cell_type": "code",
   "execution_count": 15,
   "metadata": {},
   "outputs": [
    {
     "name": "stdout",
     "output_type": "stream",
     "text": [
      "Top positive:\n",
      "4.085014 S      word.lower=chrome\n",
      "3.688637 S      word.lower=registration\n",
      "3.601956 S      word.lower=callers\n",
      "3.517643 S      word.lower=comment\n",
      "3.427913 S      -1:word.lower=dd\n",
      "3.391863 S      -1:word.lower=ondemand\n",
      "3.315049 O      -1:word.lower=inventory\n",
      "3.275435 O      word.lower=improvements\n",
      "3.270184 O      word.lower=crash\n",
      "3.194352 B      word.lower=signing\n",
      "3.074182 S      word.lower=geofence\n",
      "3.073090 E      +1:word.lower=literally\n",
      "3.058250 S      word.lower=ads\n",
      "3.029923 S      +1:word.lower=multipage\n",
      "3.024327 S      word.lower=attachments\n",
      "3.008348 S      word.lower=transporter\n",
      "2.971403 S      -1:word.lower=remember\n",
      "2.967165 E      +1:word.lower=bug\n",
      "2.954166 E      -1:word.lower=signing\n",
      "2.941855 S      word.lower=conversation\n",
      "\n",
      "Top negative:\n",
      "-1.933105 O      +1:word.lower=process\n",
      "-1.949872 O      word.lower=contacts\n",
      "-1.952957 O      word.lower=activity\n",
      "-1.967230 O      +1:word.lower=mode\n",
      "-2.022514 O      -1:word.lower=watch\n",
      "-2.036207 O      -1:word.lower=remember\n",
      "-2.057337 O      +1:word.lower=saving\n",
      "-2.069643 O      +1:word.lower=option\n",
      "-2.085328 O      word.lower=sound\n",
      "-2.095436 O      word.lower=sorting\n",
      "-2.114443 O      -1:word.lower=friendly\n",
      "-2.120809 O      word.lower=chat\n",
      "-2.220104 O      word.lower=searchable\n",
      "-2.284006 O      +1:word.lower=gods\n",
      "-2.335576 O      -1:word.lower=via\n",
      "-2.355248 O      +1:word.lower=start\n",
      "-2.496249 O      word.lower=playback\n",
      "-2.511731 O      word.lower=accessories\n",
      "-2.844375 O      word.lower=sharing\n",
      "-2.890790 O      +1:word.lower=link\n"
     ]
    }
   ],
   "source": [
    "def print_state_features(state_features):\n",
    "    for (attr, label), weight in state_features:\n",
    "        print(\"%0.6f %-6s %s\" % (weight, label, attr))    \n",
    "\n",
    "print(\"Top positive:\")\n",
    "print_state_features(Counter(info.state_features).most_common(20))\n",
    "\n",
    "print(\"\\nTop negative:\")\n",
    "print_state_features(Counter(info.state_features).most_common()[-20:])"
   ]
  },
  {
   "cell_type": "code",
   "execution_count": null,
   "metadata": {},
   "outputs": [],
   "source": []
  }
 ],
 "metadata": {
  "kernelspec": {
   "display_name": "Python 3 (ipykernel)",
   "language": "python",
   "name": "python3"
  },
  "language_info": {
   "codemirror_mode": {
    "name": "ipython",
    "version": 3
   },
   "file_extension": ".py",
   "mimetype": "text/x-python",
   "name": "python",
   "nbconvert_exporter": "python",
   "pygments_lexer": "ipython3",
   "version": "3.10.5"
  },
  "vscode": {
   "interpreter": {
    "hash": "7a2000831a5050d8503f24d6733c4641a8734e9c81b6dced7c2deb928c6c3201"
   }
  }
 },
 "nbformat": 4,
 "nbformat_minor": 1
}
