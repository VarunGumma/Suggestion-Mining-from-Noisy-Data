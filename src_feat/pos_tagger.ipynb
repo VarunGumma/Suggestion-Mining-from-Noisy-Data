{
 "cells": [
  {
   "cell_type": "code",
   "execution_count": null,
   "metadata": {},
   "outputs": [],
   "source": [
    "from ast import literal_eval\n",
    "from pandas import read_csv\n",
    "import spacy\n",
    "\n",
    "tag2idx = {'B': 0, 'I': 1, 'O': 2, 'E': 3, 'S': 4, 'X': 5}\n",
    "nlp = spacy.load(\"en_core_web_sm\")"
   ]
  },
  {
   "cell_type": "code",
   "execution_count": null,
   "metadata": {},
   "outputs": [],
   "source": [
    "is_feat = lambda x, S: x in S \n",
    "is_pos = lambda x: x == \"NOUN\" or x == \"ADJ\" or x == \"VERB\""
   ]
  },
  {
   "cell_type": "code",
   "execution_count": null,
   "metadata": {},
   "outputs": [],
   "source": [
    "def compute_recall(pos, labels, S=\"BIES\"):\n",
    "    pass"
   ]
  },
  {
   "cell_type": "code",
   "execution_count": null,
   "metadata": {},
   "outputs": [],
   "source": [
    "def compute_precision(pos, labels, S=\"BIES\"):\n",
    "    pass"
   ]
  },
  {
   "cell_type": "code",
   "execution_count": null,
   "metadata": {},
   "outputs": [],
   "source": [
    "def compute_f1score(pos, labels, S=\"BIES\"):\n",
    "    pass"
   ]
  },
  {
   "cell_type": "code",
   "execution_count": null,
   "metadata": {},
   "outputs": [],
   "source": [
    "data = read_csv(\"../data/train_290818.txt\", sep=\" \", header=None, encoding=\"utf-8\").values.tolist()\n",
    "text_train = [' '.join(literal_eval(words)) for (words, _, _) in data]\n",
    "labels_train = [[l.split('-')[0] for l in literal_eval(labels)] for (_, labels, _) in data]\n",
    "\n",
    "data = read_csv(\"../data/test_290818.txt\", sep=\" \", header=None, encoding=\"utf-8\").values.tolist()\n",
    "text_test = [' '.join(literal_eval(words)) for (words, _, _) in data]\n",
    "labels_test = [[l.split('-')[0] for l in literal_eval(labels)] for (_, labels, _) in data]\n",
    "\n",
    "pos = [[token.pos_ for token in nlp(s)] for s in text_train + text_test]\n",
    "labels = labels_train + labels_test"
   ]
  }
 ],
 "metadata": {
  "language_info": {
   "name": "python"
  },
  "orig_nbformat": 4
 },
 "nbformat": 4,
 "nbformat_minor": 2
}
