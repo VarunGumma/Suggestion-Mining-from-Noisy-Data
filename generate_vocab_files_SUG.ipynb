{
 "cells": [
  {
   "cell_type": "code",
   "execution_count": 1,
   "id": "94b05aaf",
   "metadata": {},
   "outputs": [],
   "source": [
    "import pandas as pd\n",
    "from itertools import chain\n",
    "from nltk.tokenize import TreebankWordTokenizer, TweetTokenizer, MWETokenizer\n",
    "\n",
    "# import nltk\n",
    "# nltk.download('all')"
   ]
  },
  {
   "cell_type": "code",
   "execution_count": 2,
   "id": "5109ae21",
   "metadata": {},
   "outputs": [],
   "source": [
    "def create_vocab(tokenizer_name, tokenizer, text):\n",
    "    tokenized_text = [tokenizer.tokenize(sentence) for sentence in text]\n",
    "    all_tokenized_words = list(chain.from_iterable(tokenized_text))\n",
    "    all_tokenized_unique_words = ['<PAD>', '<UNK>', '<START>', '<END>'] + sorted(list(set(all_tokenized_words)))\n",
    "    with open(f\"./data/full_vocab_sug_{tokenizer_name}.txt\", mode=\"w\", encoding=\"utf-8\") as f:\n",
    "        f.writelines([f\"{w}\\n\" for w in all_tokenized_unique_words])\n",
    "    print(f\"done with {tokenizer_name}!\")"
   ]
  },
  {
   "cell_type": "code",
   "execution_count": 3,
   "id": "bfc329cf",
   "metadata": {},
   "outputs": [],
   "source": [
    "tokenizers = {\n",
    "    \"tree_bank_tokenier\": TreebankWordTokenizer(),\n",
    "    \"tweet_tokenizer\": TweetTokenizer(),\n",
    "    \"mwe_tokenizer\": MWETokenizer(),\n",
    "}"
   ]
  },
  {
   "cell_type": "code",
   "execution_count": 4,
   "id": "3c139a03",
   "metadata": {},
   "outputs": [],
   "source": [
    "df1 = pd.read_csv(\"./data/App_Training.csv\", names=[\"sno\", \"id\", \"text\", \"lbl\"])\n",
    "text1 = [x.lower().strip() for x in df1[\"text\"]]\n",
    "\n",
    "df2 = pd.read_csv(\"./data/App_Test_Labeled.csv\", names=[\"sno\", \"id\", \"text\", \"lbl\"])\n",
    "text2 = [x.lower().strip() for x in df2[\"text\"]]\n",
    "\n",
    "text = text1 + text2"
   ]
  },
  {
   "cell_type": "code",
   "execution_count": 5,
   "id": "bc395557",
   "metadata": {},
   "outputs": [
    {
     "name": "stdout",
     "output_type": "stream",
     "text": [
      "done with tree_bank_tokenier!\n",
      "done with tweet_tokenizer!\n",
      "done with mwe_tokenizer!\n"
     ]
    }
   ],
   "source": [
    "for (k, v) in tokenizers.items():\n",
    "    create_vocab(k, v, text)"
   ]
  },
  {
   "cell_type": "code",
   "execution_count": null,
   "id": "57dad057",
   "metadata": {},
   "outputs": [],
   "source": []
  }
 ],
 "metadata": {
  "kernelspec": {
   "display_name": "Python 3.10.5 64-bit",
   "language": "python",
   "name": "python3"
  },
  "language_info": {
   "codemirror_mode": {
    "name": "ipython",
    "version": 3
   },
   "file_extension": ".py",
   "mimetype": "text/x-python",
   "name": "python",
   "nbconvert_exporter": "python",
   "pygments_lexer": "ipython3",
   "version": "3.10.5"
  },
  "vscode": {
   "interpreter": {
    "hash": "7a2000831a5050d8503f24d6733c4641a8734e9c81b6dced7c2deb928c6c3201"
   }
  }
 },
 "nbformat": 4,
 "nbformat_minor": 5
}
